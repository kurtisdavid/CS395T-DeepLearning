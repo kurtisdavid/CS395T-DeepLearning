{
 "cells": [
  {
   "cell_type": "code",
   "execution_count": 1,
   "metadata": {},
   "outputs": [],
   "source": [
    "import numpy as np\n",
    "import pandas as pd\n",
    "import matplotlib.pyplot as plt"
   ]
  },
  {
   "cell_type": "markdown",
   "metadata": {},
   "source": [
    "### Labels Parsing"
   ]
  },
  {
   "cell_type": "code",
   "execution_count": 2,
   "metadata": {},
   "outputs": [],
   "source": [
    "train_file = 'yearbook_train.txt'"
   ]
  },
  {
   "cell_type": "code",
   "execution_count": 12,
   "metadata": {},
   "outputs": [],
   "source": [
    "labels = {'M': {}, 'F': {}}\n",
    "with open(train_file) as w:\n",
    "    for line in w:\n",
    "        l = int(line.strip().split()[-1])\n",
    "        k = line.strip().split('/')[0]\n",
    "        if l not in labels[k]:\n",
    "            labels[k][l] = 1\n",
    "        else:\n",
    "            labels[k][l] += 1"
   ]
  },
  {
   "cell_type": "code",
   "execution_count": 13,
   "metadata": {},
   "outputs": [],
   "source": [
    "m_year = list(labels['M'].keys())\n",
    "m_count = [labels['M'][yr] for yr in m_year]\n",
    "\n",
    "f_year = list(labels['F'].keys())\n",
    "f_count = [labels['F'][yr] for yr in f_year]"
   ]
  },
  {
   "cell_type": "markdown",
   "metadata": {},
   "source": [
    "### Labels Distributions"
   ]
  },
  {
   "cell_type": "code",
   "execution_count": 22,
   "metadata": {},
   "outputs": [],
   "source": [
    "from pylab import rcParams\n",
    "rcParams['figure.figsize'] = 10, 5"
   ]
  },
  {
   "cell_type": "code",
   "execution_count": 25,
   "metadata": {},
   "outputs": [
    {
     "data": {
      "image/png": "[encoded data removed]",
      "text/plain": [
       "<matplotlib.figure.Figure at 0x1d33726fd30>"
      ]
     },
     "metadata": {},
     "output_type": "display_data"
    }
   ],
   "source": [
    "plt.title('Male Distribution')\n",
    "plt.xlabel('Year')\n",
    "plt.ylabel('Count')\n",
    "plt.bar(m_year, m_count)\n",
    "plt.show()"
   ]
  },
  {
   "cell_type": "code",
   "execution_count": 26,
   "metadata": {},
   "outputs": [
    {
     "data": {
      "image/png": "[encoded data removed]",
      "text/plain": [
       "<matplotlib.figure.Figure at 0x1d336d20ac8>"
      ]
     },
     "metadata": {},
     "output_type": "display_data"
    }
   ],
   "source": [
    "plt.title('Female Distribution')\n",
    "plt.xlabel('Year')\n",
    "plt.ylabel('Count')\n",
    "plt.bar(f_year, f_count)\n",
    "plt.show()"
   ]
  },
  {
   "cell_type": "markdown",
   "metadata": {},
   "source": [
    "### Image Statistics"
   ]
  },
  {
   "cell_type": "code",
   "execution_count": 9,
   "metadata": {},
   "outputs": [],
   "source": [
    "import torch\n",
    "from torchvision import transforms, datasets\n",
    "import numpy as np"
   ]
  },
  {
   "cell_type": "code",
   "execution_count": 28,
   "metadata": {},
   "outputs": [],
   "source": [
    "data_transform = transforms.Compose([transforms.Grayscale(),\n",
    "                                     transforms.ToTensor(),\n",
    "                                     transforms.Normalize(mean=[0.5089547997389491],\n",
    "                                     std=[1])])\n",
    "allImages = datasets.ImageFolder(root='./train',transform = data_transform)"
   ]
  },
  {
   "cell_type": "code",
   "execution_count": 29,
   "metadata": {},
   "outputs": [],
   "source": [
    "dataloader = torch.utils.data.DataLoader(allImages,batch_size = 1)"
   ]
  },
  {
   "cell_type": "code",
   "execution_count": 30,
   "metadata": {},
   "outputs": [
    {
     "name": "stdout",
     "output_type": "stream",
     "text": [
      "tensor([[[[ 0.4910,  0.4871,  0.3695,  ..., -0.0972, -0.0893, -0.0854],\n",
      "          [ 0.4910,  0.4910,  0.3695,  ..., -0.0972, -0.0893, -0.0893],\n",
      "          [ 0.4910,  0.4910,  0.3969,  ..., -0.0933, -0.0893, -0.0854],\n",
      "          ...,\n",
      "          [ 0.3459,  0.3420,  0.3420,  ...,  0.2910,  0.2950,  0.2950],\n",
      "          [ 0.3459,  0.3420,  0.3420,  ...,  0.2910,  0.2950,  0.2989],\n",
      "          [ 0.3459,  0.3420,  0.3420,  ...,  0.2871,  0.2950,  0.2989]]]])\n"
     ]
    }
   ],
   "source": [
    "for x in dataloader:\n",
    "    print(x[0])\n",
    "    break"
   ]
  },
  {
   "cell_type": "code",
   "execution_count": 5,
   "metadata": {},
   "outputs": [
    {
     "data": {
      "text/plain": [
       "22840"
      ]
     },
     "execution_count": 5,
     "metadata": {},
     "output_type": "execute_result"
    }
   ],
   "source": [
    "len(allImages)"
   ]
  },
  {
   "cell_type": "code",
   "execution_count": 25,
   "metadata": {},
   "outputs": [
    {
     "name": "stdout",
     "output_type": "stream",
     "text": [
      "0.5089547997389491\n"
     ]
    }
   ],
   "source": [
    "running = 0\n",
    "for i,batch in enumerate(dataloader):\n",
    "    x = np.squeeze(batch[0].numpy())\n",
    "#     l = x.shape[1]\n",
    "#     w = x.shape[2]\n",
    "    bs = x.shape[0]\n",
    "    \n",
    "    running += np.mean(x)*bs\n",
    "print(running/len(allImages))"
   ]
  },
  {
   "cell_type": "code",
   "execution_count": 27,
   "metadata": {},
   "outputs": [],
   "source": [
    "mu = 0.5089547997389491"
   ]
  },
  {
   "cell_type": "code",
   "execution_count": null,
   "metadata": {},
   "outputs": [],
   "source": []
  }
 ],
 "metadata": {
  "kernelspec": {
   "display_name": "Python 3",
   "language": "python",
   "name": "python3"
  },
  "language_info": {
   "codemirror_mode": {
    "name": "ipython",
    "version": 3
   },
   "file_extension": ".py",
   "mimetype": "text/x-python",
   "name": "python",
   "nbconvert_exporter": "python",
   "pygments_lexer": "ipython3",
   "version": "3.6.4"
  }
 },
 "nbformat": 4,
 "nbformat_minor": 2
}
