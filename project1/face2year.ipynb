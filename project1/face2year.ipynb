{
 "cells": [
  {
   "cell_type": "code",
   "execution_count": null,
   "metadata": {},
   "outputs": [],
   "source": [
    "import torch.nn as nn"
   ]
  },
  {
   "cell_type": "code",
   "execution_count": null,
   "metadata": {},
   "outputs": [],
   "source": [
    "class Discriminator(nn.Module):\n",
    "\n",
    "    def __init__(self, init_output = 64):\n",
    "        super(Discriminator,self).__init__()\n",
    "        conv_params = {'kernel_size': 3, 'stride': 1, 'padding': 1}\n",
    "        maxpool_params = {'kernel_size': 2, 'stride': 2, 'padding': 1}\n",
    "        self.init_output = init_output\n",
    "        \n",
    "        self.layers = []\n",
    "        \n",
    "        in_channels = 1\n",
    "        in_features = -1\n",
    "        width = 186\n",
    "        height = 171\n",
    "        \n",
    "        # this assumes you can mix conv and maxpools, with all fc at the end\n",
    "        def conv(out_channels):\n",
    "            self.layers.add(nn.Sequential(\n",
    "                nn.Conv2d(in_channels, out_channels, **conv_params),\n",
    "                nn.BatchNorm2d(num_features = out_channels),\n",
    "                nn.LeakyReLU(0.2)\n",
    "            ))\n",
    "            in_channels = out_channels\n",
    "            \n",
    "        def maxpool():\n",
    "            self.layers.add(nn.MaxPool2d(**maxpool_params))\n",
    "            width = math.ceil(width /  2)\n",
    "            height = math.ceil(height /  2)\n",
    "            \n",
    "            in_features = width * height * in_channels\n",
    "            \n",
    "        def fc(out_features):\n",
    "            self.layers.add(nn.Sequential(\n",
    "                nn.Linear(in_features, out_features),\n",
    "                nn.Sigmoid()\n",
    "            ))\n",
    "            in_features = out_features\n",
    "        \n",
    "        conv(64)\n",
    "        maxpool()\n",
    "        conv(128)\n",
    "        maxpool()\n",
    "        conv(256)\n",
    "        conv(256)\n",
    "        maxpool()\n",
    "        conv(512)\n",
    "        conv(512)\n",
    "        maxpool()\n",
    "        conv(512)\n",
    "        conv(512)\n",
    "        maxpool()\n",
    "        fc(4096)\n",
    "        fc(4096)\n",
    "        fc(100)\n",
    "        \n",
    "        \n",
    "    def forward(self,X):\n",
    "        for layer in self.layers:\n",
    "            X = layer(X)\n",
    "        X = X.view(-1,self.init_output*8*16)\n",
    "        X = self.output(X)\n",
    "        return X"
   ]
  }
 ],
 "metadata": {
  "kernelspec": {
   "display_name": "Python 3",
   "language": "python",
   "name": "python3"
  },
  "language_info": {
   "codemirror_mode": {
    "name": "ipython",
    "version": 3
   },
   "file_extension": ".py",
   "mimetype": "text/x-python",
   "name": "python",
   "nbconvert_exporter": "python",
   "pygments_lexer": "ipython3",
   "version": "3.6.4"
  }
 },
 "nbformat": 4,
 "nbformat_minor": 2
}
