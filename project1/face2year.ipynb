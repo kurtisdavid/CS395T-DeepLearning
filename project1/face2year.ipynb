{
 "cells": [
  {
   "cell_type": "code",
   "execution_count": 3,
   "metadata": {},
   "outputs": [],
   "source": [
    "import torch\n",
    "from torchvision import transforms, datasets"
   ]
  },
  {
   "cell_type": "code",
   "execution_count": 4,
   "metadata": {},
   "outputs": [],
   "source": [
    "data_transform = transforms.Compose([transforms.Grayscale(),\n",
    "                                     transforms.ToTensor(),\n",
    "                                     transforms.Normalize(mean=[0.5089547997389491],\n",
    "                                     std=[1])])\n",
    "allImages = datasets.ImageFolder(root='./train',transform = data_transform)"
   ]
  },
  {
   "cell_type": "code",
   "execution_count": 15,
   "metadata": {},
   "outputs": [],
   "source": [
    "dataloader = torch.utils.data.DataLoader(allImages,batch_size = 128)"
   ]
  },
  {
   "cell_type": "code",
   "execution_count": 16,
   "metadata": {},
   "outputs": [],
   "source": [
    "import torch.nn as nn\n",
    "import math"
   ]
  },
  {
   "cell_type": "code",
   "execution_count": 17,
   "metadata": {},
   "outputs": [],
   "source": [
    "class VGG(nn.Module):\n",
    "\n",
    "\n",
    "    def __init__(self, init_output = 64):\n",
    "        super(VGG,self).__init__()\n",
    "        self.conv_params = {'kernel_size': 3, 'stride': 1, 'padding': 1}\n",
    "        self.maxpool_params = {'kernel_size': 2, 'stride': 2, 'padding': 1, 'dilation': 1}\n",
    "        self.init_output = init_output\n",
    "        \n",
    "        self.layers = []\n",
    "        \n",
    "        self.in_channels = 1\n",
    "        self.maxpool_out = -1\n",
    "        self.in_features = -1\n",
    "        self.width = 186\n",
    "        self.height = 171\n",
    "        \n",
    "        # this assumes you can mix conv and maxpools, with all fc at the end\n",
    "        def conv(out_channels):\n",
    "            self.layers.append(nn.Sequential(\n",
    "                nn.Conv2d(self.in_channels, out_channels, **self.conv_params),\n",
    "                nn.BatchNorm2d(num_features = out_channels),\n",
    "                nn.LeakyReLU(0.2)\n",
    "            ))\n",
    "            self.in_channels = out_channels\n",
    "            print(\"applied conv: image is now \", self.width, \" by \", self.height, \" by \", self.in_channels)\n",
    "\n",
    "        def maxpool_size(x):\n",
    "            kernel_size = self.maxpool_params['kernel_size']\n",
    "            padding = self.maxpool_params['padding']\n",
    "            stride = self.maxpool_params['stride']\n",
    "            dilation = self.maxpool_params['dilation']\n",
    "            return math.floor((x + 2 * padding - dilation * (kernel_size - 1) - 1) / stride  + 1)\n",
    "            \n",
    "        def maxpool():\n",
    "            self.layers.append(nn.MaxPool2d(**self.maxpool_params))\n",
    "            self.width = maxpool_size(self.width)\n",
    "            self.height = maxpool_size(self.height)\n",
    "\n",
    "            self.maxpool_out = self.width * self.height * self.in_channels\n",
    "            print(\"applied maxpool: image is now \", self.width, \" by \", self.height, \" by \", self.in_channels)\n",
    "\n",
    "        def fc(out_features, first=False):\n",
    "            in_features = self.maxpool_out if first else self.in_features\n",
    "            \n",
    "            self.layers.append(nn.Sequential(\n",
    "                nn.Linear(in_features, out_features),\n",
    "                nn.Sigmoid()\n",
    "            ))\n",
    "            self.in_features = out_features\n",
    "        \n",
    "        conv(64)\n",
    "        maxpool()\n",
    "        conv(128)\n",
    "        maxpool()\n",
    "        conv(256)\n",
    "        conv(256)\n",
    "        maxpool()\n",
    "        conv(512)\n",
    "        conv(512)\n",
    "        maxpool()\n",
    "        conv(512)\n",
    "        conv(512)\n",
    "        maxpool()\n",
    "        fc(4096, first=True)\n",
    "        fc(4096)\n",
    "        fc(100)\n",
    "        \n",
    "        \n",
    "    def forward(self,X):\n",
    "        for layer in self.layers[:-3]:\n",
    "            X = layer(X)\n",
    "            \n",
    "        print(X.shape)\n",
    "            \n",
    "        X = X.view(-1, self.maxpool_out)\n",
    "        \n",
    "        for layer in self.layers[-3:]:\n",
    "            X = layer(X)\n",
    "        \n",
    "        return X"
   ]
  },
  {
   "cell_type": "code",
   "execution_count": 18,
   "metadata": {},
   "outputs": [
    {
     "name": "stdout",
     "output_type": "stream",
     "text": [
      "applied conv: image is now  186  by  171  by  64\n",
      "applied maxpool: image is now  94  by  86  by  64\n",
      "applied conv: image is now  94  by  86  by  128\n",
      "applied maxpool: image is now  48  by  44  by  128\n",
      "applied conv: image is now  48  by  44  by  256\n",
      "applied conv: image is now  48  by  44  by  256\n",
      "applied maxpool: image is now  25  by  23  by  256\n",
      "applied conv: image is now  25  by  23  by  512\n",
      "applied conv: image is now  25  by  23  by  512\n",
      "applied maxpool: image is now  13  by  12  by  512\n",
      "applied conv: image is now  13  by  12  by  512\n",
      "applied conv: image is now  13  by  12  by  512\n",
      "applied maxpool: image is now  7  by  7  by  512\n"
     ]
    }
   ],
   "source": [
    "vgg = VGG()"
   ]
  },
  {
   "cell_type": "code",
   "execution_count": null,
   "metadata": {},
   "outputs": [],
   "source": [
    "for batch in dataloader:\n",
    "    vgg(batch[0])\n",
    "    break"
   ]
  },
  {
   "cell_type": "code",
   "execution_count": null,
   "metadata": {},
   "outputs": [],
   "source": []
  },
  {
   "cell_type": "code",
   "execution_count": null,
   "metadata": {},
   "outputs": [],
   "source": []
  }
 ],
 "metadata": {
  "kernelspec": {
   "display_name": "Python 3",
   "language": "python",
   "name": "python3"
  },
  "language_info": {
   "codemirror_mode": {
    "name": "ipython",
    "version": 3
   },
   "file_extension": ".py",
   "mimetype": "text/x-python",
   "name": "python",
   "nbconvert_exporter": "python",
   "pygments_lexer": "ipython3",
   "version": "3.7.0"
  }
 },
 "nbformat": 4,
 "nbformat_minor": 2
}
