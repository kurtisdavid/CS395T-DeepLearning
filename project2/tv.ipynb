{
 "cells": [
  {
   "cell_type": "code",
   "execution_count": 1,
   "metadata": {},
   "outputs": [],
   "source": [
    "import torch\n",
    "from torchvision import models\n",
    "import numpy as np"
   ]
  },
  {
   "cell_type": "code",
   "execution_count": 4,
   "metadata": {},
   "outputs": [],
   "source": [
    "alexnet = models.alexnet()"
   ]
  },
  {
   "cell_type": "code",
   "execution_count": 10,
   "metadata": {},
   "outputs": [
    {
     "name": "stdout",
     "output_type": "stream",
     "text": [
      "television:  tensor(1048.2379, grad_fn=<ThAddBackward>)\n",
      "television:  tensor(5095.8789, grad_fn=<ThAddBackward>)\n",
      "television:  tensor(7337.8882, grad_fn=<ThAddBackward>)\n",
      "television:  tensor(6935.9849, grad_fn=<ThAddBackward>)\n",
      "television:  tensor(5663.1504, grad_fn=<ThAddBackward>)\n"
     ]
    }
   ],
   "source": [
    "def TVLoss(model, ):\n",
    "    conv2D_idxs = [0, 3, 6, 8, 10]\n",
    "    \n",
    "    features = list(model.features.children())\n",
    "    for idx in conv2D_idxs:\n",
    "        weights = list(features[idx].parameters())[0]\n",
    "        size = weights.size()\n",
    "        \n",
    "        tv = 0\n",
    "        for kernel in range(size[0]):\n",
    "            for channel in range(size[1]):\n",
    "                y = weights[kernel][channel]\n",
    "                \n",
    "                for i in range(size[2] - 1):\n",
    "                    for j in range(size[3] - 1):\n",
    "                        tv += torch.sqrt((y[i + 1][j] - y[i][j])**2 + (y[i][j + 1] - y[i][j])**2)\n",
    "                        \n",
    "        print(\"television: \", tv)\n",
    "        # print(conv2D_weights.size()\n",
    "    \n",
    "TVLoss(alexnet)"
   ]
  },
  {
   "cell_type": "code",
   "execution_count": null,
   "metadata": {},
   "outputs": [],
   "source": []
  }
 ],
 "metadata": {
  "kernelspec": {
   "display_name": "Python 3",
   "language": "python",
   "name": "python3"
  },
  "language_info": {
   "codemirror_mode": {
    "name": "ipython",
    "version": 3
   },
   "file_extension": ".py",
   "mimetype": "text/x-python",
   "name": "python",
   "nbconvert_exporter": "python",
   "pygments_lexer": "ipython3",
   "version": "3.6.4"
  }
 },
 "nbformat": 4,
 "nbformat_minor": 2
}
