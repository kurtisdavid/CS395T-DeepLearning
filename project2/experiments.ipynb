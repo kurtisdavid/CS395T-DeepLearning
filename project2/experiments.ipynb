{
 "cells": [
  {
   "cell_type": "code",
   "execution_count": 1,
   "metadata": {},
   "outputs": [],
   "source": [
    "import torch\n",
    "import torch.nn as nn\n",
    "from torchvision import models, datasets, transforms\n",
    "import torch.utils.data as data\n",
    "from utils import *\n",
    "from models import *\n",
    "import numpy as np"
   ]
  },
  {
   "cell_type": "markdown",
   "metadata": {},
   "source": [
    "## Data Setup"
   ]
  },
  {
   "cell_type": "code",
   "execution_count": 2,
   "metadata": {},
   "outputs": [
    {
     "name": "stdout",
     "output_type": "stream",
     "text": [
      "Files already downloaded and verified\n",
      "Files already downloaded and verified\n"
     ]
    }
   ],
   "source": [
    "transform_train = transforms.Compose([\n",
    "    transforms.RandomHorizontalFlip(),\n",
    "    transforms.ToTensor(),\n",
    "    transforms.Normalize((0.5071, 0.4865, 0.4409), (0.2673, 0.2564, 0.2762)),\n",
    "]) \n",
    "\n",
    "transform_test = transforms.Compose([\n",
    "    transforms.ToTensor(),\n",
    "    transforms.Normalize((0.5071, 0.4865, 0.4409), (0.2673, 0.2564, 0.2762)),\n",
    "])\n",
    "\n",
    "dataloader = datasets.CIFAR10\n",
    "batch_size = 64\n",
    "test_bs = 256\n",
    "\n",
    "trainset = dataloader(root='./data', train=True, download=True, transform=transform_train)\n",
    "trainloader = data.DataLoader(trainset, batch_size=batch_size, shuffle=True)\n",
    "\n",
    "testset = dataloader(root='./data', train=False, download=True,\n",
    "        transform=transform_test)\n",
    "testloader = data.DataLoader(testset, batch_size=test_bs, shuffle=False)"
   ]
  },
  {
   "cell_type": "code",
   "execution_count": 3,
   "metadata": {},
   "outputs": [],
   "source": [
    "device = torch.device(\"cuda:0\" if torch.cuda.is_available() else \"cpu\")"
   ]
  },
  {
   "cell_type": "markdown",
   "metadata": {},
   "source": [
    "## Model Init"
   ]
  },
  {
   "cell_type": "code",
   "execution_count": 63,
   "metadata": {},
   "outputs": [],
   "source": [
    "model = AlexNet(num_classes=10).to(device)"
   ]
  },
  {
   "cell_type": "markdown",
   "metadata": {},
   "source": [
    "## Train"
   ]
  },
  {
   "cell_type": "code",
   "execution_count": 64,
   "metadata": {},
   "outputs": [],
   "source": [
    "EPOCHS = 50\n",
    "lr = 1e-3\n",
    "optim = torch.optim.Adam(model.parameters(), lr = lr)\n",
    "criterion = nn.CrossEntropyLoss()\n",
    "lambda_TV = 1e-4\n",
    "layer_mask = [0]"
   ]
  },
  {
   "cell_type": "markdown",
   "metadata": {},
   "source": [
    "### Without TV:"
   ]
  },
  {
   "cell_type": "code",
   "execution_count": 13,
   "metadata": {},
   "outputs": [],
   "source": [
    "def eval_model(model, testloader, criterion):\n",
    "    model.eval()\n",
    "    class_losses = []\n",
    "    accs = []\n",
    "    with torch.no_grad():\n",
    "        for batch_input, batch_labels in testloader:\n",
    "            batch_input = batch_input.to(device)\n",
    "            batch_labels = batch_labels.to(device)\n",
    "            \n",
    "            batch_output = model(batch_input)\n",
    "            batch_pred = torch.argmax(batch_output, dim = 1)\n",
    "            acc = torch.mean(torch.eq(batch_pred,batch_labels).type(torch.float))\n",
    "            class_loss = criterion(batch_output,batch_labels)\n",
    "            \n",
    "            accs.append(acc.item())\n",
    "            class_losses.append(class_loss.item())\n",
    "    return np.mean(accs),np.mean(class_losses)"
   ]
  },
  {
   "cell_type": "code",
   "execution_count": 26,
   "metadata": {},
   "outputs": [],
   "source": [
    "def train_no_tv(model, optim, **kwargs):\n",
    "    print(\"Starting Without TV Training\")\n",
    "    val_losses = []\n",
    "    val_accs = []\n",
    "    losses = []\n",
    "    TVs = []\n",
    "    \n",
    "    EPOCHS = kwargs['EPOCHS']\n",
    "    criterion = kwargs['criterion']\n",
    "    layer_mask = kwargs['layer_mask']\n",
    "    \n",
    "    for e in range(EPOCHS):\n",
    "        # validation\n",
    "        val_acc, val_loss = eval_model(model,testloader,criterion)\n",
    "        print(\"Epoch\", e, \"| Test Acc:\", \"{:8.4f}\".format(val_acc), \"| Test Loss:\", \"{:8.4f}\".format(val_loss), end = \"\")\n",
    "        val_accs.append(val_acc)\n",
    "        val_losses.append(val_losses)\n",
    "        \n",
    "        # training\n",
    "        model.train()\n",
    "        class_losses = []\n",
    "        TV_losses = []\n",
    "        ok = 0\n",
    "        with torch.no_grad():\n",
    "            init = TVLossMat(model, layer_mask).item()\n",
    "        for batch_input, batch_labels in trainloader:\n",
    "            optim.zero_grad()\n",
    "            batch_input = batch_input.to(device)\n",
    "            batch_labels = batch_labels.to(device)\n",
    "            batch_output = model(batch_input)\n",
    "\n",
    "            class_loss = criterion(batch_output,batch_labels)\n",
    "            loss = class_loss\n",
    "            loss.backward()\n",
    "            optim.step()\n",
    "\n",
    "            class_losses.append(class_loss.item())\n",
    "        print(\" | Train loss:\", \"{:8.4f}\".format(np.mean(class_losses)), \"| Init TV:\", \"{:8.4f}\".format(init))\n",
    "        losses.append(np.mean(class_losses))\n",
    "        TVs.append(init)\n",
    "    return val_accs, val_losses,losses,TVs"
   ]
  },
  {
   "cell_type": "code",
   "execution_count": null,
   "metadata": {},
   "outputs": [],
   "source": [
    "train_no_tv(model,optim)"
   ]
  },
  {
   "cell_type": "markdown",
   "metadata": {},
   "source": [
    "### With TV"
   ]
  },
  {
   "cell_type": "code",
   "execution_count": 34,
   "metadata": {
    "scrolled": true
   },
   "outputs": [],
   "source": [
    "def train_tv(model,optim,**kwargs):\n",
    "    \n",
    "    EPOCHS = kwargs['EPOCHS']\n",
    "    criterion = kwargs['criterion']\n",
    "    layer_mask = kwargs['layer_mask']\n",
    "    lambda_TV = kwargs['lambda_TV']\n",
    "    \n",
    "    print(\"Starting TV Training\")\n",
    "    val_losses = []\n",
    "    val_accs = []\n",
    "    losses = []\n",
    "    TVs = []\n",
    "    for e in range(EPOCHS):\n",
    "        # validation\n",
    "        val_acc, val_loss = eval_model(model,testloader,criterion)\n",
    "        print(\"Epoch\", e, \"| Test Acc:\", \"{:8.4f}\".format(val_acc), \"| Test Loss:\", \"{:8.4f}\".format(val_loss), end = \"\")\n",
    "        val_accs.append(val_acc)\n",
    "        val_losses.append(val_losses)\n",
    "        # training\n",
    "        model.train()\n",
    "        class_losses = []\n",
    "        TV_losses = []\n",
    "        with torch.no_grad():\n",
    "            init = TVLossMat(model, layer_mask).item()\n",
    "        for batch_input, batch_labels in trainloader:\n",
    "            optim.zero_grad()\n",
    "            batch_input = batch_input.to(device)\n",
    "            batch_labels = batch_labels.to(device)\n",
    "            batch_output = model(batch_input)\n",
    "\n",
    "            class_loss = criterion(batch_output,batch_labels)\n",
    "            TV_loss = TVLossMat(model, layer_mask)\n",
    "            loss = class_loss + lambda_TV*TV_loss\n",
    "            loss.backward()\n",
    "            optim.step()\n",
    "\n",
    "            class_losses.append(class_loss.item())\n",
    "            TV_losses.append(TV_loss.item()*lambda_TV)\n",
    "\n",
    "        print(\" | Train loss:\", \"{:8.4f}\".format(np.mean(class_losses)), \"| Init TV:\", \"{:8.4f}\".format(init), \"| TV loss:\", \"{:8.4f}\".format(np.mean(TV_losses)))\n",
    "        losses.append(np.mean(class_losses))\n",
    "        TVs.append(init)\n",
    "        \n",
    "    return val_accs, val_losses,losses,TVs"
   ]
  },
  {
   "cell_type": "markdown",
   "metadata": {},
   "source": [
    "## Experiment 1: First Layer"
   ]
  },
  {
   "cell_type": "code",
   "execution_count": 37,
   "metadata": {},
   "outputs": [],
   "source": [
    "def compare(n_trials):\n",
    "    without_res = {}\n",
    "    with_res = {}\n",
    "    EPOCHS = 25\n",
    "    lr = 1e-3\n",
    "    criterion = nn.CrossEntropyLoss()\n",
    "    lambda_TV = 1e-4\n",
    "    layer_mask = [0]\n",
    "    kwargs = {\n",
    "        'criterion': criterion,\n",
    "        'lambda_TV': lambda_TV,\n",
    "        'layer_mask': layer_mask,\n",
    "        'EPOCHS': EPOCHS\n",
    "    }\n",
    "    for i in range(n_trials):\n",
    "        # without TV\n",
    "        model = AlexNet(num_classes=10).to(device)\n",
    "        torch.save(model.state_dict(),'default.pt')\n",
    "        optim = torch.optim.Adam(model.parameters(), lr = lr)\n",
    "        without_res[i] = {}\n",
    "        without_v_acc, without_v_loss, without_loss, without_tv = train_no_tv(model,optim,**kwargs)\n",
    "        without_res[i]['losses'] = without_loss\n",
    "        without_res[i]['tv'] = without_tv\n",
    "        without_res[i]['val_losses'] = without_v_loss\n",
    "        without_res[i]['val_accs'] = without_v_acc\n",
    "        \n",
    "        # with TV\n",
    "        model = AlexNet(num_classes=10).to(device)\n",
    "        model.load_state_dict(torch.load('default.pt'))\n",
    "        optim = torch.optim.Adam(model.parameters(), lr = lr)\n",
    "        with_res[i] = {}\n",
    "        with_v_acc, with_v_loss, with_loss, with_tv = train_tv(model,optim,**kwargs)\n",
    "        with_res[i]['losses'] = with_loss\n",
    "        with_res[i]['tv'] = with_tv\n",
    "        with_res[i]['val_losses'] = with_v_loss\n",
    "        with_res[i]['val_accs'] = with_v_acc\n",
    "    return without_res, with_res\n",
    "        "
   ]
  },
  {
   "cell_type": "code",
   "execution_count": 38,
   "metadata": {
    "scrolled": true
   },
   "outputs": [
    {
     "name": "stdout",
     "output_type": "stream",
     "text": [
      "Starting Without TV Training\n",
      "Epoch 0 | Test Acc:   0.1021 | Test Loss:   2.3026 | Train loss:   1.8773 | Init TV: 1044.9150\n",
      "Epoch 1 | Test Acc:   0.3724 | Test Loss:   1.6086 | Train loss:   1.5715 | Init TV: 1094.1321\n",
      "Epoch 2 | Test Acc:   0.4716 | Test Loss:   1.4629 | Train loss:   1.4213 | Init TV: 1160.4369\n",
      "Epoch 3 | Test Acc:   0.5171 | Test Loss:   1.3381 | Train loss:   1.3434 | Init TV: 1223.4458\n",
      "Epoch 4 | Test Acc:   0.5304 | Test Loss:   1.3011 | Train loss:   1.2890 | Init TV: 1287.2905\n",
      "Epoch 5 | Test Acc:   0.5431 | Test Loss:   1.2698 | Train loss:   1.2502 | Init TV: 1356.4606\n",
      "Epoch 6 | Test Acc:   0.5469 | Test Loss:   1.2964 | Train loss:   1.2232 | Init TV: 1421.6407\n",
      "Epoch 7 | Test Acc:   0.5744 | Test Loss:   1.2002 | Train loss:   1.1899 | Init TV: 1480.5188\n",
      "Epoch 8 | Test Acc:   0.5601 | Test Loss:   1.2379 | Train loss:   1.1623 | Init TV: 1541.0238\n",
      "Epoch 9 | Test Acc:   0.5816 | Test Loss:   1.1843 | Train loss:   1.1396 | Init TV: 1596.9249\n",
      "Epoch 10 | Test Acc:   0.5944 | Test Loss:   1.1595 | Train loss:   1.1294 | Init TV: 1654.4446\n",
      "Epoch 11 | Test Acc:   0.5952 | Test Loss:   1.1525 | Train loss:   1.1020 | Init TV: 1711.2622\n",
      "Epoch 12 | Test Acc:   0.5973 | Test Loss:   1.1402 | Train loss:   1.0931 | Init TV: 1766.9700\n",
      "Epoch 13 | Test Acc:   0.6063 | Test Loss:   1.1109 | Train loss:   1.0754 | Init TV: 1817.8390\n",
      "Epoch 14 | Test Acc:   0.6197 | Test Loss:   1.0944 | Train loss:   1.0640 | Init TV: 1868.9143\n",
      "Epoch 15 | Test Acc:   0.6100 | Test Loss:   1.1131 | Train loss:   1.0494 | Init TV: 1917.2247\n",
      "Epoch 16 | Test Acc:   0.6147 | Test Loss:   1.1010 | Train loss:   1.0455 | Init TV: 1969.4465\n",
      "Epoch 17 | Test Acc:   0.6216 | Test Loss:   1.0905 | Train loss:   1.0320 | Init TV: 2016.4027\n",
      "Epoch 18 | Test Acc:   0.6134 | Test Loss:   1.1152 | Train loss:   1.0216 | Init TV: 2064.5928\n",
      "Epoch 19 | Test Acc:   0.6264 | Test Loss:   1.0895 | Train loss:   1.0092 | Init TV: 2113.4099\n",
      "Epoch 20 | Test Acc:   0.6222 | Test Loss:   1.1096 | Train loss:   0.9987 | Init TV: 2155.4546\n",
      "Epoch 21 | Test Acc:   0.6361 | Test Loss:   1.0502 | Train loss:   0.9954 | Init TV: 2203.8770\n",
      "Epoch 22 | Test Acc:   0.6240 | Test Loss:   1.0829 | Train loss:   0.9826 | Init TV: 2247.7961\n",
      "Epoch 23 | Test Acc:   0.6315 | Test Loss:   1.0717 | Train loss:   0.9794 | Init TV: 2290.3909\n",
      "Epoch 24 | Test Acc:   0.6200 | Test Loss:   1.1110 | Train loss:   0.9678 | Init TV: 2336.0020\n",
      "Starting TV Training\n",
      "Epoch 0 | Test Acc:   0.1021 | Test Loss:   2.3026 | Train loss:   1.8762 | Init TV: 1044.9150 | TV loss:   0.0333\n",
      "Epoch 1 | Test Acc:   0.3671 | Test Loss:   1.6295 | Train loss:   1.5348 | Init TV: 265.2529 | TV loss:   0.0289\n",
      "Epoch 2 | Test Acc:   0.4950 | Test Loss:   1.3605 | Train loss:   1.3836 | Init TV: 313.1603 | TV loss:   0.0339\n",
      "Epoch 3 | Test Acc:   0.5360 | Test Loss:   1.2977 | Train loss:   1.2936 | Init TV: 358.9874 | TV loss:   0.0381\n",
      "Epoch 4 | Test Acc:   0.5308 | Test Loss:   1.3364 | Train loss:   1.2337 | Init TV: 397.5955 | TV loss:   0.0417\n",
      "Epoch 5 | Test Acc:   0.5754 | Test Loss:   1.2105 | Train loss:   1.1786 | Init TV: 429.8144 | TV loss:   0.0444\n",
      "Epoch 6 | Test Acc:   0.5961 | Test Loss:   1.1664 | Train loss:   1.1369 | Init TV: 455.2519 | TV loss:   0.0470\n",
      "Epoch 7 | Test Acc:   0.5966 | Test Loss:   1.1482 | Train loss:   1.1034 | Init TV: 480.2071 | TV loss:   0.0495\n",
      "Epoch 8 | Test Acc:   0.6178 | Test Loss:   1.1171 | Train loss:   1.0766 | Init TV: 505.6006 | TV loss:   0.0516\n",
      "Epoch 9 | Test Acc:   0.6082 | Test Loss:   1.1355 | Train loss:   1.0488 | Init TV: 521.7111 | TV loss:   0.0531\n",
      "Epoch 10 | Test Acc:   0.5991 | Test Loss:   1.2148 | Train loss:   1.0232 | Init TV: 536.6358 | TV loss:   0.0549\n",
      "Epoch 11 | Test Acc:   0.6168 | Test Loss:   1.0922 | Train loss:   1.0062 | Init TV: 555.2927 | TV loss:   0.0566\n",
      "Epoch 12 | Test Acc:   0.6403 | Test Loss:   1.0624 | Train loss:   0.9820 | Init TV: 571.7236 | TV loss:   0.0578\n",
      "Epoch 13 | Test Acc:   0.6360 | Test Loss:   1.0676 | Train loss:   0.9692 | Init TV: 584.4436 | TV loss:   0.0590\n",
      "Epoch 14 | Test Acc:   0.6296 | Test Loss:   1.1020 | Train loss:   0.9474 | Init TV: 595.2327 | TV loss:   0.0602\n",
      "Epoch 15 | Test Acc:   0.6423 | Test Loss:   1.0540 | Train loss:   0.9368 | Init TV: 607.0183 | TV loss:   0.0615\n",
      "Epoch 16 | Test Acc:   0.6440 | Test Loss:   1.0293 | Train loss:   0.9181 | Init TV: 621.3849 | TV loss:   0.0626\n",
      "Epoch 17 | Test Acc:   0.6310 | Test Loss:   1.0661 | Train loss:   0.9123 | Init TV: 630.0872 | TV loss:   0.0637\n",
      "Epoch 18 | Test Acc:   0.6464 | Test Loss:   1.0346 | Train loss:   0.8990 | Init TV: 644.4741 | TV loss:   0.0650\n",
      "Epoch 19 | Test Acc:   0.6565 | Test Loss:   1.0191 | Train loss:   0.8835 | Init TV: 654.0261 | TV loss:   0.0659\n",
      "Epoch 20 | Test Acc:   0.6342 | Test Loss:   1.0676 | Train loss:   0.8676 | Init TV: 663.0988 | TV loss:   0.0670\n",
      "Epoch 21 | Test Acc:   0.6632 | Test Loss:   1.0147 | Train loss:   0.8612 | Init TV: 672.8433 | TV loss:   0.0680\n",
      "Epoch 22 | Test Acc:   0.6513 | Test Loss:   1.0284 | Train loss:   0.8447 | Init TV: 686.0576 | TV loss:   0.0686\n",
      "Epoch 23 | Test Acc:   0.6596 | Test Loss:   1.0272 | Train loss:   0.8454 | Init TV: 686.7094 | TV loss:   0.0694\n",
      "Epoch 24 | Test Acc:   0.6685 | Test Loss:   1.0084 | Train loss:   0.8343 | Init TV: 698.5067 | TV loss:   0.0703\n",
      "Starting Without TV Training\n",
      "Epoch 0 | Test Acc:   0.0976 | Test Loss:   2.3026 | Train loss:   1.8615 | Init TV: 1039.3231\n",
      "Epoch 1 | Test Acc:   0.3701 | Test Loss:   1.6641 | Train loss:   1.5449 | Init TV: 1087.0032\n",
      "Epoch 2 | Test Acc:   0.4714 | Test Loss:   1.4249 | Train loss:   1.3788 | Init TV: 1155.4006\n",
      "Epoch 3 | Test Acc:   0.5134 | Test Loss:   1.3783 | Train loss:   1.2931 | Init TV: 1228.3212\n",
      "Epoch 4 | Test Acc:   0.5423 | Test Loss:   1.2631 | Train loss:   1.2237 | Init TV: 1298.8647\n",
      "Epoch 5 | Test Acc:   0.5782 | Test Loss:   1.1884 | Train loss:   1.1775 | Init TV: 1364.8303\n",
      "Epoch 6 | Test Acc:   0.5921 | Test Loss:   1.1775 | Train loss:   1.1308 | Init TV: 1425.7268\n",
      "Epoch 7 | Test Acc:   0.5859 | Test Loss:   1.1722 | Train loss:   1.1007 | Init TV: 1488.0892\n",
      "Epoch 8 | Test Acc:   0.6061 | Test Loss:   1.1276 | Train loss:   1.0742 | Init TV: 1549.9506\n",
      "Epoch 9 | Test Acc:   0.6146 | Test Loss:   1.1197 | Train loss:   1.0407 | Init TV: 1609.8409\n",
      "Epoch 10 | Test Acc:   0.6168 | Test Loss:   1.0919 | Train loss:   1.0179 | Init TV: 1665.1997\n",
      "Epoch 11 | Test Acc:   0.6302 | Test Loss:   1.0776 | Train loss:   0.9929 | Init TV: 1723.8948\n",
      "Epoch 12 | Test Acc:   0.6431 | Test Loss:   1.0469 | Train loss:   0.9681 | Init TV: 1779.8403\n",
      "Epoch 13 | Test Acc:   0.6398 | Test Loss:   1.0434 | Train loss:   0.9500 | Init TV: 1830.8763\n",
      "Epoch 14 | Test Acc:   0.6453 | Test Loss:   1.0468 | Train loss:   0.9408 | Init TV: 1883.6982\n",
      "Epoch 15 | Test Acc:   0.6437 | Test Loss:   1.0293 | Train loss:   0.9154 | Init TV: 1935.0508\n",
      "Epoch 16 | Test Acc:   0.6409 | Test Loss:   1.0490 | Train loss:   0.9047 | Init TV: 1986.1040\n",
      "Epoch 17 | Test Acc:   0.6590 | Test Loss:   1.0162 | Train loss:   0.8888 | Init TV: 2035.1040\n",
      "Epoch 18 | Test Acc:   0.6596 | Test Loss:   1.0114 | Train loss:   0.8660 | Init TV: 2081.3630\n",
      "Epoch 19 | Test Acc:   0.6552 | Test Loss:   1.0523 | Train loss:   0.8616 | Init TV: 2127.3584\n",
      "Epoch 20 | Test Acc:   0.6500 | Test Loss:   1.0268 | Train loss:   0.8465 | Init TV: 2175.5288\n",
      "Epoch 21 | Test Acc:   0.6700 | Test Loss:   0.9832 | Train loss:   0.8438 | Init TV: 2219.5442\n",
      "Epoch 22 | Test Acc:   0.6651 | Test Loss:   0.9901 | Train loss:   0.8233 | Init TV: 2265.4500\n",
      "Epoch 23 | Test Acc:   0.6601 | Test Loss:   1.0005 | Train loss:   0.8174 | Init TV: 2312.7732\n",
      "Epoch 24 | Test Acc:   0.6707 | Test Loss:   0.9838 | Train loss:   0.8101 | Init TV: 2356.7598\n",
      "Starting TV Training\n",
      "Epoch 0 | Test Acc:   0.0976 | Test Loss:   2.3026 | Train loss:   1.8709 | Init TV: 1039.3231 | TV loss:   0.0361\n",
      "Epoch 1 | Test Acc:   0.3808 | Test Loss:   1.6446 | Train loss:   1.5390 | Init TV: 277.1000 | TV loss:   0.0292\n",
      "Epoch 2 | Test Acc:   0.4785 | Test Loss:   1.4323 | Train loss:   1.3972 | Init TV: 311.8925 | TV loss:   0.0335\n",
      "Epoch 3 | Test Acc:   0.5195 | Test Loss:   1.3510 | Train loss:   1.3191 | Init TV: 357.1581 | TV loss:   0.0382\n"
     ]
    },
    {
     "name": "stdout",
     "output_type": "stream",
     "text": [
      "Epoch 4 | Test Acc:   0.5374 | Test Loss:   1.2951 | Train loss:   1.2531 | Init TV: 397.4392 | TV loss:   0.0415\n",
      "Epoch 5 | Test Acc:   0.5701 | Test Loss:   1.2232 | Train loss:   1.2134 | Init TV: 427.2893 | TV loss:   0.0440\n",
      "Epoch 6 | Test Acc:   0.5727 | Test Loss:   1.2173 | Train loss:   1.1742 | Init TV: 446.6597 | TV loss:   0.0460\n",
      "Epoch 7 | Test Acc:   0.5847 | Test Loss:   1.1697 | Train loss:   1.1393 | Init TV: 470.9988 | TV loss:   0.0484\n",
      "Epoch 8 | Test Acc:   0.5933 | Test Loss:   1.1578 | Train loss:   1.1099 | Init TV: 492.6067 | TV loss:   0.0502\n",
      "Epoch 9 | Test Acc:   0.6058 | Test Loss:   1.1420 | Train loss:   1.0818 | Init TV: 508.6013 | TV loss:   0.0521\n",
      "Epoch 10 | Test Acc:   0.6044 | Test Loss:   1.1424 | Train loss:   1.0636 | Init TV: 528.1263 | TV loss:   0.0539\n",
      "Epoch 11 | Test Acc:   0.6128 | Test Loss:   1.1019 | Train loss:   1.0379 | Init TV: 544.5859 | TV loss:   0.0553\n",
      "Epoch 12 | Test Acc:   0.6180 | Test Loss:   1.1063 | Train loss:   1.0266 | Init TV: 561.4711 | TV loss:   0.0568\n",
      "Epoch 13 | Test Acc:   0.6304 | Test Loss:   1.0721 | Train loss:   1.0079 | Init TV: 573.8531 | TV loss:   0.0583\n",
      "Epoch 14 | Test Acc:   0.6287 | Test Loss:   1.0916 | Train loss:   0.9893 | Init TV: 585.4990 | TV loss:   0.0594\n",
      "Epoch 15 | Test Acc:   0.6323 | Test Loss:   1.0705 | Train loss:   0.9809 | Init TV: 602.0624 | TV loss:   0.0609\n",
      "Epoch 16 | Test Acc:   0.6486 | Test Loss:   1.0364 | Train loss:   0.9685 | Init TV: 613.7091 | TV loss:   0.0618\n",
      "Epoch 17 | Test Acc:   0.6369 | Test Loss:   1.0899 | Train loss:   0.9527 | Init TV: 621.1266 | TV loss:   0.0628\n",
      "Epoch 18 | Test Acc:   0.6307 | Test Loss:   1.0940 | Train loss:   0.9429 | Init TV: 633.0389 | TV loss:   0.0641\n",
      "Epoch 19 | Test Acc:   0.6437 | Test Loss:   1.0411 | Train loss:   0.9312 | Init TV: 647.5085 | TV loss:   0.0653\n",
      "Epoch 20 | Test Acc:   0.6448 | Test Loss:   1.0460 | Train loss:   0.9177 | Init TV: 656.2749 | TV loss:   0.0663\n",
      "Epoch 21 | Test Acc:   0.6432 | Test Loss:   1.0569 | Train loss:   0.9089 | Init TV: 671.3076 | TV loss:   0.0673\n",
      "Epoch 22 | Test Acc:   0.6370 | Test Loss:   1.0677 | Train loss:   0.9015 | Init TV: 673.1988 | TV loss:   0.0679\n",
      "Epoch 23 | Test Acc:   0.6509 | Test Loss:   1.0500 | Train loss:   0.8914 | Init TV: 684.3675 | TV loss:   0.0689\n",
      "Epoch 24 | Test Acc:   0.6408 | Test Loss:   1.0696 | Train loss:   0.8833 | Init TV: 694.1335 | TV loss:   0.0696\n",
      "Starting Without TV Training\n",
      "Epoch 0 | Test Acc:   0.1006 | Test Loss:   2.3027 | Train loss:   1.8603 | Init TV: 1048.2456\n",
      "Epoch 1 | Test Acc:   0.3590 | Test Loss:   1.6619 | Train loss:   1.5701 | Init TV: 1099.3295\n",
      "Epoch 2 | Test Acc:   0.4336 | Test Loss:   1.4922 | Train loss:   1.4278 | Init TV: 1163.3303\n",
      "Epoch 3 | Test Acc:   0.5145 | Test Loss:   1.3320 | Train loss:   1.3419 | Init TV: 1230.2717\n",
      "Epoch 4 | Test Acc:   0.5245 | Test Loss:   1.3129 | Train loss:   1.2854 | Init TV: 1299.4235\n",
      "Epoch 5 | Test Acc:   0.5460 | Test Loss:   1.2726 | Train loss:   1.2496 | Init TV: 1367.5336\n",
      "Epoch 6 | Test Acc:   0.5608 | Test Loss:   1.2326 | Train loss:   1.2101 | Init TV: 1432.0862\n",
      "Epoch 7 | Test Acc:   0.5784 | Test Loss:   1.1963 | Train loss:   1.1835 | Init TV: 1491.9469\n",
      "Epoch 8 | Test Acc:   0.5772 | Test Loss:   1.1983 | Train loss:   1.1565 | Init TV: 1553.8446\n",
      "Epoch 9 | Test Acc:   0.5859 | Test Loss:   1.1960 | Train loss:   1.1415 | Init TV: 1613.8411\n",
      "Epoch 10 | Test Acc:   0.5753 | Test Loss:   1.2169 | Train loss:   1.1253 | Init TV: 1672.7197\n",
      "Epoch 11 | Test Acc:   0.5873 | Test Loss:   1.1878 | Train loss:   1.1047 | Init TV: 1727.6116\n",
      "Epoch 12 | Test Acc:   0.6121 | Test Loss:   1.1098 | Train loss:   1.0875 | Init TV: 1785.0693\n",
      "Epoch 13 | Test Acc:   0.6032 | Test Loss:   1.1513 | Train loss:   1.0703 | Init TV: 1841.8157\n",
      "Epoch 14 | Test Acc:   0.6104 | Test Loss:   1.1171 | Train loss:   1.0531 | Init TV: 1893.3778\n",
      "Epoch 15 | Test Acc:   0.6052 | Test Loss:   1.1505 | Train loss:   1.0483 | Init TV: 1944.3652\n",
      "Epoch 16 | Test Acc:   0.6244 | Test Loss:   1.0838 | Train loss:   1.0274 | Init TV: 1995.3466\n",
      "Epoch 17 | Test Acc:   0.6024 | Test Loss:   1.1748 | Train loss:   1.0230 | Init TV: 2044.3252\n",
      "Epoch 18 | Test Acc:   0.6282 | Test Loss:   1.0771 | Train loss:   1.0158 | Init TV: 2090.0127\n",
      "Epoch 19 | Test Acc:   0.6282 | Test Loss:   1.0925 | Train loss:   1.0041 | Init TV: 2137.7390\n",
      "Epoch 20 | Test Acc:   0.6299 | Test Loss:   1.0801 | Train loss:   0.9954 | Init TV: 2184.0439\n",
      "Epoch 21 | Test Acc:   0.6211 | Test Loss:   1.0850 | Train loss:   0.9784 | Init TV: 2227.8311\n",
      "Epoch 22 | Test Acc:   0.6279 | Test Loss:   1.0610 | Train loss:   0.9731 | Init TV: 2269.7019\n",
      "Epoch 23 | Test Acc:   0.6378 | Test Loss:   1.0602 | Train loss:   0.9650 | Init TV: 2315.2031\n",
      "Epoch 24 | Test Acc:   0.6347 | Test Loss:   1.0549 | Train loss:   0.9616 | Init TV: 2360.4773\n",
      "Starting TV Training\n",
      "Epoch 0 | Test Acc:   0.1006 | Test Loss:   2.3027 | Train loss:   1.8264 | Init TV: 1048.2456 | TV loss:   0.0374\n",
      "Epoch 1 | Test Acc:   0.4047 | Test Loss:   1.5377 | Train loss:   1.5127 | Init TV: 293.2674 | TV loss:   0.0299\n",
      "Epoch 2 | Test Acc:   0.4748 | Test Loss:   1.4508 | Train loss:   1.3830 | Init TV: 310.0062 | TV loss:   0.0335\n",
      "Epoch 3 | Test Acc:   0.5259 | Test Loss:   1.3180 | Train loss:   1.3052 | Init TV: 357.5416 | TV loss:   0.0376\n",
      "Epoch 4 | Test Acc:   0.5329 | Test Loss:   1.3244 | Train loss:   1.2410 | Init TV: 392.0776 | TV loss:   0.0411\n",
      "Epoch 5 | Test Acc:   0.5497 | Test Loss:   1.2629 | Train loss:   1.1999 | Init TV: 424.3638 | TV loss:   0.0442\n",
      "Epoch 6 | Test Acc:   0.5860 | Test Loss:   1.1768 | Train loss:   1.1580 | Init TV: 454.8662 | TV loss:   0.0468\n",
      "Epoch 7 | Test Acc:   0.5901 | Test Loss:   1.1686 | Train loss:   1.1249 | Init TV: 474.2815 | TV loss:   0.0486\n",
      "Epoch 8 | Test Acc:   0.5904 | Test Loss:   1.2167 | Train loss:   1.0973 | Init TV: 496.5540 | TV loss:   0.0511\n",
      "Epoch 9 | Test Acc:   0.6003 | Test Loss:   1.1535 | Train loss:   1.0771 | Init TV: 518.9167 | TV loss:   0.0529\n",
      "Epoch 10 | Test Acc:   0.6113 | Test Loss:   1.1330 | Train loss:   1.0447 | Init TV: 535.2479 | TV loss:   0.0543\n",
      "Epoch 11 | Test Acc:   0.6163 | Test Loss:   1.1340 | Train loss:   1.0343 | Init TV: 550.3160 | TV loss:   0.0561\n",
      "Epoch 12 | Test Acc:   0.6189 | Test Loss:   1.1162 | Train loss:   1.0139 | Init TV: 568.8840 | TV loss:   0.0578\n",
      "Epoch 13 | Test Acc:   0.6085 | Test Loss:   1.1193 | Train loss:   0.9924 | Init TV: 581.8828 | TV loss:   0.0590\n",
      "Epoch 14 | Test Acc:   0.6368 | Test Loss:   1.0653 | Train loss:   0.9769 | Init TV: 594.1163 | TV loss:   0.0602\n",
      "Epoch 15 | Test Acc:   0.6337 | Test Loss:   1.0585 | Train loss:   0.9683 | Init TV: 609.4761 | TV loss:   0.0615\n",
      "Epoch 16 | Test Acc:   0.6371 | Test Loss:   1.0788 | Train loss:   0.9453 | Init TV: 618.6060 | TV loss:   0.0625\n",
      "Epoch 17 | Test Acc:   0.6455 | Test Loss:   1.0386 | Train loss:   0.9312 | Init TV: 626.1804 | TV loss:   0.0631\n",
      "Epoch 18 | Test Acc:   0.6346 | Test Loss:   1.0732 | Train loss:   0.9204 | Init TV: 637.3344 | TV loss:   0.0642\n",
      "Epoch 19 | Test Acc:   0.6438 | Test Loss:   1.0602 | Train loss:   0.9102 | Init TV: 644.5273 | TV loss:   0.0653\n",
      "Epoch 20 | Test Acc:   0.6406 | Test Loss:   1.0688 | Train loss:   0.9074 | Init TV: 657.7472 | TV loss:   0.0665\n",
      "Epoch 21 | Test Acc:   0.6486 | Test Loss:   1.0394 | Train loss:   0.8933 | Init TV: 670.1353 | TV loss:   0.0674\n",
      "Epoch 22 | Test Acc:   0.6433 | Test Loss:   1.0591 | Train loss:   0.8816 | Init TV: 675.3813 | TV loss:   0.0680\n",
      "Epoch 23 | Test Acc:   0.6373 | Test Loss:   1.0509 | Train loss:   0.8748 | Init TV: 685.9982 | TV loss:   0.0690\n",
      "Epoch 24 | Test Acc:   0.6625 | Test Loss:   1.0038 | Train loss:   0.8656 | Init TV: 691.9378 | TV loss:   0.0697\n"
     ]
    }
   ],
   "source": [
    "without_tv, with_tv = compare(3)"
   ]
  },
  {
   "cell_type": "markdown",
   "metadata": {},
   "source": [
    "## Visualizations"
   ]
  },
  {
   "cell_type": "code",
   "execution_count": 41,
   "metadata": {},
   "outputs": [],
   "source": [
    "import matplotlib.pyplot as plt"
   ]
  },
  {
   "cell_type": "markdown",
   "metadata": {},
   "source": [
    "### Trial Results"
   ]
  },
  {
   "cell_type": "code",
   "execution_count": 57,
   "metadata": {},
   "outputs": [
    {
     "data": {
      "image/png": "[encoded data removed]",
      "text/plain": [
       "<Figure size 432x288 with 1 Axes>"
      ]
     },
     "metadata": {
      "needs_background": "light"
     },
     "output_type": "display_data"
    },
    {
     "data": {
      "image/png": "[encoded data removed]",
      "text/plain": [
       "<Figure size 432x288 with 1 Axes>"
      ]
     },
     "metadata": {
      "needs_background": "light"
     },
     "output_type": "display_data"
    },
    {
     "data": {
      "image/png": "[encoded data removed]",
      "text/plain": [
       "<Figure size 432x288 with 1 Axes>"
      ]
     },
     "metadata": {
      "needs_background": "light"
     },
     "output_type": "display_data"
    }
   ],
   "source": [
    "for i in range(3):\n",
    "    plt.plot(range(25),without_tv[i]['losses'], label=\"without tv\")\n",
    "    plt.plot(range(25),with_tv[i]['losses'], label = \"with tv\")\n",
    "    plt.legend()\n",
    "    plt.xlabel(\"Epoch\")\n",
    "    plt.ylabel(\"Training Loss\")\n",
    "    plt.title(\"Trial \" + str(i))\n",
    "    plt.show()"
   ]
  },
  {
   "cell_type": "code",
   "execution_count": 58,
   "metadata": {},
   "outputs": [
    {
     "data": {
      "image/png": "[encoded data removed]",
      "text/plain": [
       "<Figure size 432x288 with 1 Axes>"
      ]
     },
     "metadata": {
      "needs_background": "light"
     },
     "output_type": "display_data"
    }
   ],
   "source": [
    "plt.plot(range(25),[(a+b+c)/3 for a,b,c in zip(*[without_tv[i]['losses'] for i in range(3)])], label=\"without tv\")\n",
    "plt.plot(range(25),[(a+b+c)/3 for a,b,c in zip(*[with_tv[i]['losses'] for i in range(3)])], label = \"with tv\")\n",
    "plt.legend()\n",
    "plt.xlabel(\"Epoch\")\n",
    "plt.ylabel(\"Training Loss\")\n",
    "plt.title(\"Average Losses\")\n",
    "plt.show()"
   ]
  },
  {
   "cell_type": "markdown",
   "metadata": {},
   "source": [
    "### Validation Losses"
   ]
  },
  {
   "cell_type": "code",
   "execution_count": null,
   "metadata": {},
   "outputs": [],
   "source": [
    "for i in range(3):\n",
    "    plt.plot(range(25),without_tv[i]['val_losses'], label=\"without tv\")\n",
    "    plt.plot(range(25),with_tv[i]['val_losses'], label = \"with tv\")\n",
    "    plt.legend()\n",
    "    plt.xlabel(\"Epoch\")\n",
    "    plt.ylabel(\"Validation Loss\")\n",
    "    plt.title(\"Trial \" + str(i))\n",
    "    plt.show()"
   ]
  },
  {
   "cell_type": "code",
   "execution_count": null,
   "metadata": {},
   "outputs": [],
   "source": []
  }
 ],
 "metadata": {
  "kernelspec": {
   "display_name": "Python 3",
   "language": "python",
   "name": "python3"
  },
  "language_info": {
   "codemirror_mode": {
    "name": "ipython",
    "version": 3
   },
   "file_extension": ".py",
   "mimetype": "text/x-python",
   "name": "python",
   "nbconvert_exporter": "python",
   "pygments_lexer": "ipython3",
   "version": "3.6.6"
  }
 },
 "nbformat": 4,
 "nbformat_minor": 2
}
